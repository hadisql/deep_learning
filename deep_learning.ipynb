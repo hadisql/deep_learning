{
 "cells": [
  {
   "attachments": {},
   "cell_type": "markdown",
   "metadata": {},
   "source": [
    "# Deeplearning : 1er neurone"
   ]
  },
  {
   "attachments": {},
   "cell_type": "markdown",
   "metadata": {},
   "source": [
    "source : https://www.youtube.com/watch?v=5TpBe7KTAHE&list=PLO_fdPEVlfKoanjvTJbIbd9V5d9Pzp8Rw&index=5"
   ]
  },
  {
   "cell_type": "code",
   "execution_count": 1,
   "metadata": {},
   "outputs": [],
   "source": [
    "import numpy as np\n",
    "import matplotlib.pyplot as plt\n",
    "from sklearn.datasets import make_blobs"
   ]
  },
  {
   "cell_type": "code",
   "execution_count": 23,
   "metadata": {},
   "outputs": [
    {
     "data": {
      "text/plain": [
       "<matplotlib.collections.PathCollection at 0x13a8e8520>"
      ]
     },
     "execution_count": 23,
     "metadata": {},
     "output_type": "execute_result"
    },
    {
     "data": {
      "image/png": "[encoded data removed]",
      "text/plain": [
       "<Figure size 400x300 with 1 Axes>"
      ]
     },
     "metadata": {},
     "output_type": "display_data"
    }
   ],
   "source": [
    "X, y = make_blobs(n_samples=100, n_features=2, centers=2, random_state=0)\n",
    "y = y.reshape((y.shape[0],1))\n",
    "plt.figure(figsize=(4,3))\n",
    "plt.scatter(X[:,0],X[:,1],c=y)"
   ]
  },
  {
   "cell_type": "code",
   "execution_count": 27,
   "metadata": {},
   "outputs": [],
   "source": [
    "def initialisation(X):\n",
    "    W = np.random.randn(X.shape[1], 1)\n",
    "    b = np.random.randn(1)\n",
    "    return (W, b)"
   ]
  },
  {
   "cell_type": "code",
   "execution_count": 28,
   "metadata": {},
   "outputs": [],
   "source": [
    "W,b = initialisation(X)"
   ]
  },
  {
   "attachments": {},
   "cell_type": "markdown",
   "metadata": {},
   "source": [
    "### Modèle : "
   ]
  },
  {
   "cell_type": "code",
   "execution_count": 59,
   "metadata": {},
   "outputs": [],
   "source": [
    "def model(X,W,b):\n",
    "    Z = X.dot(W) + b\n",
    "    A = 1 / (1 + np.exp(-Z))\n",
    "    return A"
   ]
  },
  {
   "cell_type": "code",
   "execution_count": 60,
   "metadata": {},
   "outputs": [
    {
     "name": "stdout",
     "output_type": "stream",
     "text": [
      "(2, 1)\n",
      "(1,)\n"
     ]
    }
   ],
   "source": [
    "print(W.shape)\n",
    "print(b.shape)"
   ]
  },
  {
   "cell_type": "code",
   "execution_count": 61,
   "metadata": {},
   "outputs": [
    {
     "data": {
      "text/plain": [
       "(100, 1)"
      ]
     },
     "execution_count": 61,
     "metadata": {},
     "output_type": "execute_result"
    }
   ],
   "source": [
    "A = model(X,W,b)\n",
    "A.shape"
   ]
  },
  {
   "attachments": {},
   "cell_type": "markdown",
   "metadata": {},
   "source": [
    "### Fonction Log-Loss : &nbsp; &nbsp; &nbsp; $$\\normalsize L=-\\dfrac{1}{m} \\sum_{i=0}^{m} y_i log(a_i) + (1-y_i) log(1-a_i) $$"
   ]
  },
  {
   "cell_type": "code",
   "execution_count": 62,
   "metadata": {},
   "outputs": [],
   "source": [
    "def log_loss(A,y):\n",
    "    L = (-1/A.shape[0]) * np.sum(y * np.log(A) + (1 - y) * np.log(1 - A))\n",
    "    return L"
   ]
  },
  {
   "cell_type": "code",
   "execution_count": 63,
   "metadata": {},
   "outputs": [
    {
     "data": {
      "text/plain": [
       "1.5434436242266665"
      ]
     },
     "execution_count": 63,
     "metadata": {},
     "output_type": "execute_result"
    }
   ],
   "source": [
    "L = log_loss(A,y)\n",
    "L"
   ]
  },
  {
   "attachments": {},
   "cell_type": "markdown",
   "metadata": {},
   "source": [
    "### Le calcul des gradients : \n",
    "$$\\Large \n",
    "\\left\\{\n",
    "    \\begin{array}{ll}\n",
    "        \\frac{\\partial L}{\\partial W} = \\frac{1}{m} X^T . (A-y) \\\\\n",
    "        \\frac{\\partial L}{\\partial b} = \\frac{1}{m} \\sum_{} (A-y)\n",
    "    \\end{array}\n",
    "\\right. \n",
    "$$"
   ]
  },
  {
   "cell_type": "code",
   "execution_count": null,
   "metadata": {},
   "outputs": [],
   "source": [
    "def gradients(X,A,y):\n",
    "    dW = (1/X.shape[0])*np.dot(X.T,(A - y)) \n",
    "    db = (1/X.shape[0]) * np.sum(A - y)\n",
    "    return dW, db"
   ]
  },
  {
   "attachments": {},
   "cell_type": "markdown",
   "metadata": {},
   "source": [
    "### Descente de gradient"
   ]
  },
  {
   "cell_type": "code",
   "execution_count": null,
   "metadata": {},
   "outputs": [],
   "source": []
  }
 ],
 "metadata": {
  "kernelspec": {
   "display_name": "Python 3",
   "language": "python",
   "name": "python3"
  },
  "language_info": {
   "codemirror_mode": {
    "name": "ipython",
    "version": 3
   },
   "file_extension": ".py",
   "mimetype": "text/x-python",
   "name": "python",
   "nbconvert_exporter": "python",
   "pygments_lexer": "ipython3",
   "version": "3.8.12"
  },
  "orig_nbformat": 4,
  "vscode": {
   "interpreter": {
    "hash": "1278ce2a05448a99d388485b9eb1fe9cbf8530f9b1547b7c2253d10a7bf7d033"
   }
  }
 },
 "nbformat": 4,
 "nbformat_minor": 2
}
